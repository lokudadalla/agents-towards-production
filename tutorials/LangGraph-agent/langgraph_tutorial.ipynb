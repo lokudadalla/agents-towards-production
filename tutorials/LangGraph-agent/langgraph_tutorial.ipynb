{
 "cells": [
  {
   "cell_type": "markdown",
   "metadata": {},
   "source": [
    "![](https://europe-west1-atp-views-tracker.cloudfunctions.net/working-analytics?notebook=tutorials--langgraph-agent--langgraph-tutorial)\n",
    "\n",
    "# LangGraph Tutorial: Building a Text Analysis Pipeline\n",
    "\n",
    "## Introduction to LangGraph\n",
    "\n",
    "LangGraph is a powerful framework by LangChain designed for creating stateful, multi-actor applications with LLMs. It provides the structure and tools needed to build sophisticated AI agents through a graph-based approach.\n",
    "\n",
    "Think of LangGraph as an architect's drafting table - it gives us the tools to design how our agent will think and act. Just as an architect draws blueprints showing how different rooms connect and how people will flow through a building, LangGraph lets us design how different capabilities will connect and how information will flow through our agent.\n",
    "\n",
    "### Key Features:\n",
    "- **State Management:** Maintain persistent state across interactions\n",
    "- **Flexible Routing:** Define complex flows between components\n",
    "- **Persistence:** Save and resume workflows\n",
    "- **Visualization:** See and understand your agent's structure\n",
    "\n",
    "In this tutorial, we'll demonstrate LangGraph by building a multi-step text analysis pipeline that processes text through three stages:\n",
    "1. **Text Classification:** Categorize input text into predefined categories\n",
    "2. **Entity Extraction:** Identify key entities from the text\n",
    "3. **Text Summarization:** Generate a concise summary of the input text\n",
    "\n",
    "This pipeline showcases how LangGraph can be used to create a modular, extensible workflow for natural language processing tasks."
   ]
  },
  {
   "cell_type": "markdown",
   "metadata": {},
   "source": [
    "## Setting Up Our Environment\n",
    "\n",
    "Before diving into the code, let's set up our development environment."
   ]
  },
  {
   "cell_type": "code",
   "execution_count": null,
   "metadata": {},
   "outputs": [],
   "source": [
    "# Install required packages\n",
    "!pip install langgraph langchain langchain-openai python-dotenv"
   ]
  },
  {
   "cell_type": "markdown",
   "metadata": {},
   "source": [
    "### Setting Up API Keys\n",
    "\n",
    "We'll need an OpenAI API key to use their models. If you haven't already, you can get one from [https://platform.openai.com/signup](https://platform.openai.com/signup).\n",
    "\n",
    "Let's load our environment variables:"
   ]
  },
  {
   "cell_type": "code",
   "execution_count": 2,
   "metadata": {},
   "outputs": [],
   "source": [
    "import os\n",
    "from dotenv import load_dotenv\n",
    "\n",
    "# Load environment variables from .env file (create this with your API key)\n",
    "load_dotenv()\n",
    "\n",
    "# Set OpenAI API key\n",
    "os.environ[\"OPENAI_API_KEY\"] = os.getenv('OPENAI_API_KEY')"
   ]
  },
  {
   "cell_type": "markdown",
   "metadata": {},
   "source": [
    "### Testing Our Setup\n",
    "\n",
    "Let's make sure our environment is working correctly by creating a simple test with the OpenAI model:"
   ]
  },
  {
   "cell_type": "code",
   "execution_count": 3,
   "metadata": {},
   "outputs": [
    {
     "name": "stdout",
     "output_type": "stream",
     "text": [
      "Hello! Yes, I’m here and ready to help. What can I assist you with today?\n"
     ]
    }
   ],
   "source": [
    "from langchain_openai import ChatOpenAI\n",
    "\n",
    "# Initialize the ChatOpenAI instance\n",
    "llm = ChatOpenAI(model=\"gpt-4o-mini\")\n",
    "\n",
    "# Test the setup\n",
    "response = llm.invoke(\"Hello! Are you working?\")\n",
    "print(response.content)"
   ]
  },
  {
   "cell_type": "markdown",
   "metadata": {},
   "source": [
    "## Building Our Text Analysis Pipeline\n",
    "\n",
    "Now let's import the necessary packages for our LangGraph text analysis pipeline:"
   ]
  },
  {
   "cell_type": "code",
   "execution_count": 4,
   "metadata": {},
   "outputs": [],
   "source": [
    "import os\n",
    "from typing import TypedDict, List, Annotated\n",
    "from langgraph.graph import StateGraph, END\n",
    "from langchain.prompts import PromptTemplate\n",
    "from langchain_openai import ChatOpenAI\n",
    "from langchain.schema import HumanMessage\n",
    "from langchain_core.runnables.graph import MermaidDrawMethod\n",
    "from IPython.display import display, Image"
   ]
  },
  {
   "cell_type": "markdown",
   "metadata": {},
   "source": [
    "### Designing Our Agent's Memory\n",
    "\n",
    "Just as human intelligence requires memory, our agent needs a way to keep track of information. We create this using a TypedDict to define our state structure:"
   ]
  },
  {
   "cell_type": "code",
   "execution_count": 5,
   "metadata": {},
   "outputs": [],
   "source": [
    "class State(TypedDict):\n",
    "    text: str\n",
    "    classification: str\n",
    "    entities: List[str]\n",
    "    summary: str\n",
    "\n",
    "# Initialize our language model with temperature=0 for more deterministic outputs\n",
    "llm = ChatOpenAI(model=\"gpt-4o-mini\", temperature=0)"
   ]
  },
  {
   "cell_type": "markdown",
   "metadata": {},
   "source": [
    "### Creating Our Agent's Core Capabilities\n",
    "\n",
    "Now we'll create the actual skills our agent will use. Each of these capabilities is implemented as a function that performs a specific type of analysis.\n",
    "\n",
    "#### 1. Classification Node"
   ]
  },
  {
   "cell_type": "code",
   "execution_count": 6,
   "metadata": {},
   "outputs": [],
   "source": [
    "def classification_node(state: State):\n",
    "    '''Classify the text into one of the categories: News, Blog, Research, or Other'''\n",
    "    prompt = PromptTemplate(\n",
    "        input_variables=[\"text\"],\n",
    "        template=\"Classify the following text into one of the categories: News, Blog, Research, or Other.\\n\\nText:{text}\\n\\nCategory:\"\n",
    "    )\n",
    "    message = HumanMessage(content=prompt.format(text=state[\"text\"]))\n",
    "    classification = llm.invoke([message]).content.strip()\n",
    "    return {\"classification\": classification}"
   ]
  },
  {
   "cell_type": "markdown",
   "metadata": {},
   "source": [
    "#### 2. Entity Extraction Node"
   ]
  },
  {
   "cell_type": "code",
   "execution_count": 7,
   "metadata": {},
   "outputs": [],
   "source": [
    "def entity_extraction_node(state: State):\n",
    "    '''Extract all the entities (Person, Organization, Location) from the text'''\n",
    "    prompt = PromptTemplate(\n",
    "        input_variables=[\"text\"],\n",
    "        template=\"Extract all the entities (Person, Organization, Location) from the following text. Provide the result as a comma-separated list.\\n\\nText:{text}\\n\\nEntities:\"\n",
    "    )\n",
    "    message = HumanMessage(content=prompt.format(text=state[\"text\"]))\n",
    "    entities = llm.invoke([message]).content.strip().split(\", \")\n",
    "    return {\"entities\": entities}"
   ]
  },
  {
   "cell_type": "markdown",
   "metadata": {},
   "source": [
    "#### 3. Summarization Node"
   ]
  },
  {
   "cell_type": "code",
   "execution_count": 8,
   "metadata": {},
   "outputs": [],
   "source": [
    "def summarization_node(state: State):\n",
    "    '''Summarize the text in one short sentence'''\n",
    "    prompt = PromptTemplate(\n",
    "        input_variables=[\"text\"],\n",
    "        template=\"Summarize the following text in one short sentence.\\n\\nText:{text}\\n\\nSummary:\"\n",
    "    )\n",
    "    message = HumanMessage(content=prompt.format(text=state[\"text\"]))\n",
    "    summary = llm.invoke([message]).content.strip()\n",
    "    return {\"summary\": summary}"
   ]
  },
  {
   "cell_type": "markdown",
   "metadata": {},
   "source": [
    "### Bringing It All Together\n",
    "\n",
    "Now comes the most exciting part - connecting these capabilities into a coordinated system using LangGraph:"
   ]
  },
  {
   "cell_type": "code",
   "execution_count": 9,
   "metadata": {},
   "outputs": [],
   "source": [
    "# Create our StateGraph\n",
    "workflow = StateGraph(State)\n",
    "\n",
    "# Add nodes to the graph\n",
    "workflow.add_node(\"classification_node\", classification_node)\n",
    "workflow.add_node(\"entity_extraction\", entity_extraction_node)\n",
    "workflow.add_node(\"summarization\", summarization_node)\n",
    "\n",
    "# Add edges to the graph\n",
    "workflow.set_entry_point(\"classification_node\")  # Set the entry point of the graph\n",
    "workflow.add_edge(\"classification_node\", \"entity_extraction\")\n",
    "workflow.add_edge(\"entity_extraction\", \"summarization\")\n",
    "workflow.add_edge(\"summarization\", END)\n",
    "\n",
    "# Compile the graph\n",
    "app = workflow.compile()"
   ]
  },
  {
   "cell_type": "markdown",
   "metadata": {},
   "source": [
    "### Visualizing the Workflow\n",
    "\n",
    "One of the powerful features of LangGraph is the ability to visualize our workflow:"
   ]
  },
  {
   "cell_type": "code",
   "execution_count": 19,
   "metadata": {},
   "outputs": [
    {
     "data": {
      "image/png": "[encoded data removed]",
      "text/plain": [
       "<IPython.core.display.Image object>"
      ]
     },
     "metadata": {},
     "output_type": "display_data"
    }
   ],
   "source": [
    "# Display a visualization of our graph\n",
    "try:\n",
    "    display(\n",
    "        Image(\n",
    "            app.get_graph().draw_mermaid_png(\n",
    "                draw_method=MermaidDrawMethod.API,\n",
    "            )\n",
    "        )\n",
    "    )\n",
    "except Exception as e:\n",
    "    print(f\"Error generating visualization: {e}\")\n",
    "    print(\"The graph structure is: classification_node -> entity_extraction -> summarization -> END\")"
   ]
  },
  {
   "cell_type": "markdown",
   "metadata": {},
   "source": [
    "## Testing Our Agent\n",
    "\n",
    "Now that we've built our agent, let's see how it performs with a real-world text example:"
   ]
  },
  {
   "cell_type": "code",
   "execution_count": 11,
   "metadata": {},
   "outputs": [
    {
     "name": "stdout",
     "output_type": "stream",
     "text": [
      "Classification: News\n",
      "\n",
      "Entities: ['OpenAI', 'GPT-4', 'GPT-3']\n",
      "\n",
      "Summary: OpenAI's upcoming GPT-4 model is a multimodal AI that aims for human-level performance and improved safety, efficiency, and scalability compared to GPT-3.\n"
     ]
    }
   ],
   "source": [
    "sample_text = \"\"\"\n",
    "OpenAI has announced the GPT-4 model, which is a large multimodal model that exhibits human-level performance on various professional benchmarks. It is developed to improve the alignment and safety of AI systems.\n",
    "Additionally, the model is designed to be more efficient and scalable than its predecessor, GPT-3. The GPT-4 model is expected to be released in the coming months and will be available to the public for research and development purposes.\n",
    "\"\"\"\n",
    "\n",
    "state_input = {\"text\": sample_text}\n",
    "result = app.invoke(state_input)\n",
    "\n",
    "print(\"Classification:\", result[\"classification\"])\n",
    "print(\"\\nEntities:\", result[\"entities\"])\n",
    "print(\"\\nSummary:\", result[\"summary\"])"
   ]
  },
  {
   "cell_type": "markdown",
   "metadata": {},
   "source": [
    "## Understanding the Power of Coordinated Processing\n",
    "\n",
    "What makes this result particularly impressive isn't just the individual outputs - it's how each step builds on the others to create a complete understanding of the text.\n",
    "\n",
    "- The **classification** provides context that helps frame our understanding of the text type\n",
    "- The **entity extraction** identifies important names and concepts\n",
    "- The **summarization** distills the essence of the document\n",
    "\n",
    "This mirrors human reading comprehension, where we naturally form an understanding of what kind of text it is, note important names and concepts, and form a mental summary - all while maintaining the relationships between these different aspects of understanding."
   ]
  },
  {
   "cell_type": "markdown",
   "metadata": {},
   "source": [
    "## Try with Your Own Text\n",
    "\n",
    "Now let's try our pipeline with another text sample of your choice:"
   ]
  },
  {
   "cell_type": "code",
   "execution_count": 12,
   "metadata": {},
   "outputs": [
    {
     "name": "stdout",
     "output_type": "stream",
     "text": [
      "Classification: Research\n",
      "\n",
      "Entities: ['MIT', 'Google']\n",
      "\n",
      "Summary: Recent advancements in quantum computing may threaten current encryption methods while also prompting the development of new quantum-resistant techniques for data security.\n"
     ]
    }
   ],
   "source": [
    "# Replace this with your own text to analyze\n",
    "your_text = \"\"\"\n",
    "The recent advancements in quantum computing have opened new possibilities for cryptography and data security. \n",
    "Researchers at MIT and Google have demonstrated quantum algorithms that could potentially break current encryption methods.\n",
    "However, they are also developing new quantum-resistant encryption techniques to protect data in the future.\n",
    "\"\"\"\n",
    "\n",
    "# Process the text through our pipeline\n",
    "your_result = app.invoke({\"text\": your_text})\n",
    "\n",
    "print(\"Classification:\", your_result[\"classification\"])\n",
    "print(\"\\nEntities:\", your_result[\"entities\"])\n",
    "print(\"\\nSummary:\", your_result[\"summary\"])"
   ]
  },
  {
   "cell_type": "markdown",
   "metadata": {},
   "source": [
    "## Adding More Capabilities (Advanced)\n",
    "\n",
    "One of the powerful aspects of LangGraph is how easily we can extend our agent with new capabilities. Let's add a sentiment analysis node to our pipeline:"
   ]
  },
  {
   "cell_type": "code",
   "execution_count": 13,
   "metadata": {},
   "outputs": [],
   "source": [
    "# First, let's update our State to include sentiment\n",
    "class EnhancedState(TypedDict):\n",
    "    text: str\n",
    "    classification: str\n",
    "    entities: List[str]\n",
    "    summary: str\n",
    "    sentiment: str\n",
    "\n",
    "# Create our sentiment analysis node\n",
    "def sentiment_node(state: EnhancedState):\n",
    "    '''Analyze the sentiment of the text: Positive, Negative, or Neutral'''\n",
    "    prompt = PromptTemplate(\n",
    "        input_variables=[\"text\"],\n",
    "        template=\"Analyze the sentiment of the following text. Is it Positive, Negative, or Neutral?\\n\\nText:{text}\\n\\nSentiment:\"\n",
    "    )\n",
    "    message = HumanMessage(content=prompt.format(text=state[\"text\"]))\n",
    "    sentiment = llm.invoke([message]).content.strip()\n",
    "    return {\"sentiment\": sentiment}\n",
    "\n",
    "# Create a new workflow with the enhanced state\n",
    "enhanced_workflow = StateGraph(EnhancedState)\n",
    "\n",
    "# Add the existing nodes\n",
    "enhanced_workflow.add_node(\"classification_node\", classification_node)\n",
    "enhanced_workflow.add_node(\"entity_extraction\", entity_extraction_node)\n",
    "enhanced_workflow.add_node(\"summarization\", summarization_node)\n",
    "\n",
    "# Add our new sentiment node\n",
    "enhanced_workflow.add_node(\"sentiment_analysis\", sentiment_node)\n",
    "\n",
    "# Create a more complex workflow with branches\n",
    "enhanced_workflow.set_entry_point(\"classification_node\")\n",
    "enhanced_workflow.add_edge(\"classification_node\", \"entity_extraction\")\n",
    "enhanced_workflow.add_edge(\"entity_extraction\", \"summarization\")\n",
    "enhanced_workflow.add_edge(\"summarization\", \"sentiment_analysis\")\n",
    "enhanced_workflow.add_edge(\"sentiment_analysis\", END)\n",
    "\n",
    "# Compile the enhanced graph\n",
    "enhanced_app = enhanced_workflow.compile()"
   ]
  },
  {
   "cell_type": "markdown",
   "metadata": {},
   "source": [
    "### Testing the Enhanced Agent"
   ]
  },
  {
   "cell_type": "code",
   "execution_count": 14,
   "metadata": {},
   "outputs": [
    {
     "name": "stdout",
     "output_type": "stream",
     "text": [
      "Classification: News\n",
      "\n",
      "Entities: ['OpenAI', 'GPT-4', 'GPT-3']\n",
      "\n",
      "Summary: OpenAI's upcoming GPT-4 model is a multimodal AI that aims for human-level performance and improved safety, efficiency, and scalability compared to GPT-3.\n",
      "\n",
      "Sentiment: The sentiment of the text is Positive. It highlights the advancements and improvements of the GPT-4 model, emphasizing its human-level performance, efficiency, scalability, and the intention to enhance alignment and safety in AI systems. The anticipation of its release for public research and development further contributes to the positive tone.\n"
     ]
    }
   ],
   "source": [
    "# Try the enhanced pipeline with the same text\n",
    "enhanced_result = enhanced_app.invoke({\"text\": sample_text})\n",
    "\n",
    "print(\"Classification:\", enhanced_result[\"classification\"])\n",
    "print(\"\\nEntities:\", enhanced_result[\"entities\"])\n",
    "print(\"\\nSummary:\", enhanced_result[\"summary\"])\n",
    "print(\"\\nSentiment:\", enhanced_result[\"sentiment\"])"
   ]
  },
  {
   "cell_type": "markdown",
   "metadata": {},
   "source": [
    "## Conclusion\n",
    "\n",
    "In this tutorial, we've:\n",
    "\n",
    "1. Explored LangGraph concepts and its graph-based approach\n",
    "2. Built a text processing pipeline with classification, entity extraction, and summarization\n",
    "3. Enhanced our pipeline with additional capabilities\n",
    "4. Visualized our workflow\n",
    "5. Tested our agent with real-world text examples\n",
    "\n",
    "LangGraph provides a powerful framework for creating AI agents by modeling them as graphs of capabilities. This approach makes it easy to design, modify, and extend complex AI systems.\n",
    "\n",
    "### Next Steps\n",
    "\n",
    "- Add more nodes to extend your agent's capabilities\n",
    "- Create conditional edges to enable more complex decision-making\n",
    "- Experiment with different LLMs and parameters\n",
    "- Explore LangGraph's state persistence features for ongoing conversations\n",
    "\n",
    "For more information, check out the official LangGraph documentation at https://langchain-ai.github.io/langgraph/"
   ]
  }
 ],
 "metadata": {
  "kernelspec": {
   "display_name": "tf",
   "language": "python",
   "name": "python3"
  },
  "language_info": {
   "codemirror_mode": {
    "name": "ipython",
    "version": 3
   },
   "file_extension": ".py",
   "mimetype": "text/x-python",
   "name": "python",
   "nbconvert_exporter": "python",
   "pygments_lexer": "ipython3",
   "version": "3.11.8"
  }
 },
 "nbformat": 4,
 "nbformat_minor": 4
}
